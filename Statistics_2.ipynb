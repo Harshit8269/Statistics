{
 "cells": [
  {
   "cell_type": "markdown",
   "id": "b04d3a0a-e82f-4a44-9044-16b72e0b71aa",
   "metadata": {},
   "source": [
    "## Q1. What are the three measures of central tendency?"
   ]
  },
  {
   "cell_type": "markdown",
   "id": "a70436aa-0b5c-4954-8584-933966268ca0",
   "metadata": {},
   "source": [
    "## Ans. Measures of Central tendency are mean,median and mode\n",
    "## Mean(Average) : sum of data / Total no. of data.\n",
    "## Median : Middle value of a data set after arranging in asceding or descending order.\n",
    "## Mode : Max. occuring value in a dataset."
   ]
  },
  {
   "cell_type": "markdown",
   "id": "01591b5c-9838-4b99-9a40-a7ef11a2b85d",
   "metadata": {},
   "source": [
    "## Q2. What is the difference between the mean, median, and mode? How are they used to measure the central tendency of a dataset?"
   ]
  },
  {
   "cell_type": "markdown",
   "id": "6e62d0ea-5b21-4a15-8250-a4d7844c66e0",
   "metadata": {},
   "source": [
    "### Ans. Mean is the average which means Sum of data / No. of data while median is the middle value of the arranged dataset and Mode is the most occuring value."
   ]
  },
  {
   "cell_type": "markdown",
   "id": "2af3274c-6e65-42af-952e-d0a255de95f4",
   "metadata": {},
   "source": [
    "## Q3. Measure the three measures of central tendency for the given height data:[178,177,176,177,178.2,178,175,179,180,175,178.9,176.2,177,172.5,178,176.5]"
   ]
  },
  {
   "cell_type": "code",
   "execution_count": 13,
   "id": "8f0073d7-cf92-4f6a-bd68-12f54fbfbf2f",
   "metadata": {},
   "outputs": [
    {
     "name": "stdout",
     "output_type": "stream",
     "text": [
      "Mean : 177.01875\n",
      "Median : 177.0\n",
      "ModeResult(mode=array([177.]), count=array([3]))\n"
     ]
    }
   ],
   "source": [
    "import numpy as np\n",
    "from scipy import stats\n",
    "import warnings\n",
    "warnings.filterwarnings('ignore')\n",
    "\n",
    "l = [178,177,176,177,178.2,178,175,179,180,175,178.9,176.2,177,172.5,178,176.5]\n",
    "print(\"Mean : \"+str(np.mean(l)))\n",
    "print('Median : '+str(np.median(l)))\n",
    "print(stats.mode(l))"
   ]
  },
  {
   "cell_type": "markdown",
   "id": "f281e2c6-417c-4005-9ee8-2cf741be5972",
   "metadata": {},
   "source": [
    "## Q4. Find the standard deviation for the given data: [178,177,176,177,178.2,178,175,179,180,175,178.9,176.2,177,172.5,178,176.5]"
   ]
  },
  {
   "cell_type": "code",
   "execution_count": 16,
   "id": "2f3e56f1-6a56-42c0-94f1-dac072418abc",
   "metadata": {},
   "outputs": [
    {
     "name": "stdout",
     "output_type": "stream",
     "text": [
      "Standard Deviation : 1.7885814036548633\n"
     ]
    }
   ],
   "source": [
    "l = [178,177,176,177,178.2,178,175,179,180,175,178.9,176.2,177,172.5,178,176.5]\n",
    "print('Standard Deviation : '+str(np.std(l)))"
   ]
  },
  {
   "cell_type": "markdown",
   "id": "b0490472-abf3-4f8e-944c-a51fdb6b3d27",
   "metadata": {},
   "source": [
    "## Q5. How are measures of dispersion such as range, variance, and standard deviation used to describe the spread of a dataset? Provide an example."
   ]
  },
  {
   "cell_type": "markdown",
   "id": "6dea0f4b-454e-45e3-b826-fd337efb7521",
   "metadata": {},
   "source": [
    "### The range is the difference between the maximum and minimum values in a dataset. "
   ]
  },
  {
   "cell_type": "code",
   "execution_count": 23,
   "id": "44c69b33-5703-485f-8ffd-8b9d1480a198",
   "metadata": {},
   "outputs": [
    {
     "name": "stdout",
     "output_type": "stream",
     "text": [
      "Range : 53\n",
      "Variance : 209.53719008264463\n",
      "Standard Deviation :14.475399479207633\n"
     ]
    }
   ],
   "source": [
    "Ages = [23,43,34,56,40,43,34,45,37,76,65]\n",
    "print('Range : '+str(np.max(Ages) - np.min(Ages)))\n",
    "print('Variance : '+str(np.var(Ages)))\n",
    "print('Standard Deviation :'+str(np.std(Ages)))"
   ]
  },
  {
   "cell_type": "markdown",
   "id": "e9302c80-729f-4149-b9ad-48f4abbfba3a",
   "metadata": {},
   "source": [
    "## Q6. What is a Venn diagram?"
   ]
  },
  {
   "cell_type": "markdown",
   "id": "7b9fd1e9-946b-48a8-9b23-643ad495c26b",
   "metadata": {},
   "source": [
    "### A Venn diagram is a visual representation of the relationships between sets. The circles or shapes in a Venn diagram can be labeled with the names of the sets or with other relevant information, such as values or categories. Venn diagrams are commonly used in mathematics, logic, statistics, and other fields to illustrate concepts such as set theory, logic operations, and probability."
   ]
  },
  {
   "cell_type": "markdown",
   "id": "1a31cba7-8df8-48ef-8243-8ca3ee2701cb",
   "metadata": {},
   "source": [
    "## Q7. For the two given sets A = (2,3,4,5,6,7) & B = (0,2,6,8,10). Find:\n",
    "## (i) A intersection B\n",
    "## (ii) A ⋃ B"
   ]
  },
  {
   "cell_type": "code",
   "execution_count": 24,
   "id": "dcb10506-6739-42d6-a9da-96ab0c32c91c",
   "metadata": {},
   "outputs": [
    {
     "name": "stdout",
     "output_type": "stream",
     "text": [
      "Intersection : {2, 6}\n",
      "union : {0, 2, 3, 4, 5, 6, 7, 8, 10}\n"
     ]
    }
   ],
   "source": [
    "A = {2,3,4,5,6,7}\n",
    "B = {0,2,6,8,10}\n",
    "intersection = A.intersection(B)\n",
    "union = A.union(B)\n",
    "print('Intersection : '+str(intersection))\n",
    "print('union : '+str(union))"
   ]
  },
  {
   "cell_type": "markdown",
   "id": "a5b908bb-7306-475d-8000-0759bd5e9a55",
   "metadata": {},
   "source": [
    "## Q8. What do you understand about skewness in data?\n"
   ]
  },
  {
   "cell_type": "markdown",
   "id": "09f65c25-7606-49e8-9a10-c482694e7413",
   "metadata": {},
   "source": [
    "## Ans. Skewness is a measure of the asymmetry of a probability distribution. A distribution is said to be skewed if it is not symmetric. Skewness can be positive, negative, or zero, and is measured by the degree of asymmetry of the distribution.\n",
    "\n",
    "## A positively skewed distribution has a long tail to the right and a majority of the observations are located on the left side of the distribution. This means that the mean is typically greater than the median.\n",
    "\n",
    "## A negatively skewed distribution has a long tail to the left and a majority of the observations are located on the right side of the distribution. This means that the mean is typically less than the median.\n",
    "\n",
    "## A distribution with zero skewness is a perfectly symmetric distribution, where the mean, median, and mode are all equal."
   ]
  },
  {
   "cell_type": "markdown",
   "id": "150115ab-53d7-4629-b896-40e792ab3f40",
   "metadata": {},
   "source": [
    "## Q9. If a data is right skewed then what will be the position of median with respect to mean?\n"
   ]
  },
  {
   "cell_type": "markdown",
   "id": "904d1151-1c51-4dbb-90ac-1d430919c630",
   "metadata": {},
   "source": [
    "## Right skewed distribution has a long tail to the right and a majority of the observations are located on the left side of the distribution.This means that the mean is typically greater than the median."
   ]
  },
  {
   "cell_type": "markdown",
   "id": "e216e37a-d971-463a-8bc3-9ae7d2fa399a",
   "metadata": {},
   "source": [
    "## Q10. Explain the difference between covariance and correlation. How are these measures used in statistical analysis?\n"
   ]
  },
  {
   "cell_type": "markdown",
   "id": "a1ec5a2e-130d-4ea3-b7e9-0cd037fbd43b",
   "metadata": {},
   "source": [
    "## Ans. Covariance and correlation are both measures of the relationship between two variables in a dataset, but they differ in terms of their interpretation and scaling.\n",
    "\n",
    "## Covariance measures the extent to which two variables are linearly associated with each other. It measures how much two variables change together, with a positive covariance indicating that they tend to increase or decrease together, and a negative covariance indicating that they tend to move in opposite directions. However, the magnitude of covariance is dependent on the scale of the variables, which makes it difficult to interpret.\n",
    "\n",
    "## Correlation measures the strength and direction of the linear relationship between two variables, while standardizing the scale. It ranges between -1 and 1, with a value of 1 indicating a perfect positive relationship, a value of -1 indicating a perfect negative relationship, and a value of 0 indicating no linear relationship. Correlation is easier to interpret than covariance because it is scaled between -1 and 1, making it easier to compare relationships across different datasets."
   ]
  },
  {
   "cell_type": "markdown",
   "id": "e4aa9c30-baaf-4a64-b743-29a21c9f9967",
   "metadata": {},
   "source": [
    "## Q11. What is the formula for calculating the sample mean? Provide an example calculation for a dataset.\n"
   ]
  },
  {
   "cell_type": "markdown",
   "id": "faedacca-a763-4af5-8545-1616c96fbd40",
   "metadata": {},
   "source": [
    "## sample mean = (sum of all values in the dataset) / (number of observations in the dataset)"
   ]
  },
  {
   "cell_type": "markdown",
   "id": "b6b7a6c3-8054-422b-951c-25c33b49abb5",
   "metadata": {},
   "source": [
    "## Dataset: 5, 8, 10, 6, 7\n",
    "## sum = 5 + 8 + 10 + 6 + 7 = 36\n",
    "## Next, we divide the sum by the number of observations in the dataset:\n",
    "## sample mean = 36 / 5 = 7.2\n",
    "## Therefore, the sample mean of the dataset is 7.2."
   ]
  },
  {
   "cell_type": "markdown",
   "id": "3c1efa38-ef61-40dc-9d7a-c4d6286a30a9",
   "metadata": {},
   "source": [
    "## Q12. For a normal distribution data what is the relationship between its measure of central tendency?\n"
   ]
  },
  {
   "cell_type": "markdown",
   "id": "14aeaa6c-4fca-4904-9a1f-c2a7087801a3",
   "metadata": {},
   "source": [
    "## Ans. For a normal distribution, the measures of central tendency - mean, median, and mode - are all equal. This is because a normal distribution is perfectly symmetric around the mean, so the point of maximum density (mode), the point at which half of the observations are greater and half are less (median), and the arithmetic average (mean) are all the same."
   ]
  },
  {
   "cell_type": "markdown",
   "id": "82b1490d-828c-47fd-ad42-a60ec7f7be17",
   "metadata": {},
   "source": [
    "## Q13. How is covariance different from correlation?"
   ]
  },
  {
   "cell_type": "markdown",
   "id": "ff902531-06ca-4a85-b729-a234cdfbb544",
   "metadata": {},
   "source": [
    "## Ans. Covariance measures the linear association between two variables, while correlation measures the strength and direction of the linear association while standardizing the scale. Correlation is preferred in most cases due to its standardization and ease of interpretation."
   ]
  },
  {
   "cell_type": "markdown",
   "id": "ee056654-d3de-4453-859c-52a9bfbcc91c",
   "metadata": {},
   "source": [
    "## Q14. How do outliers affect measures of central tendency and dispersion? Provide an example."
   ]
  },
  {
   "cell_type": "markdown",
   "id": "e6af6700-9910-4ffd-9d79-93d1a05daaa5",
   "metadata": {},
   "source": [
    "## Ans. Outliers are the data points that are different from others and it can affect the measure of central tendency and dispersion.\n",
    "## Outliers affect the value of Mean and make it inaccurate.Median is less affected by Outlier because it takes the middle value.\n",
    "## for example: In an exam most of the students have marks nearby 75-77 and if a student have 99 marks then it can affect the mean by increasing its value towards the outlier.\n",
    "## Outliers can also affect measures of dispersion, such as the variance and standard deviation. Since these measures are based on the distance of each data point from the mean, outliers that are far away from the mean can increase the variance and standard deviation of the dataset, making it appear more spread out than it actually is."
   ]
  },
  {
   "cell_type": "code",
   "execution_count": null,
   "id": "e918d975-4e89-4b11-a7d7-8662e5f7a3b7",
   "metadata": {},
   "outputs": [],
   "source": []
  }
 ],
 "metadata": {
  "kernelspec": {
   "display_name": "Python 3 (ipykernel)",
   "language": "python",
   "name": "python3"
  },
  "language_info": {
   "codemirror_mode": {
    "name": "ipython",
    "version": 3
   },
   "file_extension": ".py",
   "mimetype": "text/x-python",
   "name": "python",
   "nbconvert_exporter": "python",
   "pygments_lexer": "ipython3",
   "version": "3.10.8"
  }
 },
 "nbformat": 4,
 "nbformat_minor": 5
}

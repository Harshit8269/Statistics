{
 "cells": [
  {
   "cell_type": "markdown",
   "id": "d3e9ad4c-a390-423a-96a3-957e04b094b6",
   "metadata": {},
   "source": [
    "## Q1. What is Statistics?\n",
    "## Ans: Statistics is the Science which involves collecting, Organizing and analyzing the Data."
   ]
  },
  {
   "cell_type": "markdown",
   "id": "1823364d-c3f6-4273-b7d7-84d69c32d74a",
   "metadata": {},
   "source": [
    "## Q2. Define the different types of statistics and give an example of when each type might be used."
   ]
  },
  {
   "cell_type": "markdown",
   "id": "52a584d3-5d91-4eee-897a-c3db024b05ba",
   "metadata": {},
   "source": [
    "## Ans: There are two types of Statistics :\n",
    "## 1. Descriptive statistics : It consists of Organizing and summarizing data.\n",
    "### Ex: mean,median,mode,standard deviation, variance etc.\n",
    "## 2. Inferential Statistics : It consists of using data you have measured to form conclusion.\n",
    "### Ex: z-test, t-test, p value etc."
   ]
  },
  {
   "cell_type": "markdown",
   "id": "b528092e-36ea-4a1a-a50d-8ae8c9ce4f32",
   "metadata": {},
   "source": [
    "## Q3. What are the different types of data and how do they differ from each other? Provide an example of each type of data."
   ]
  },
  {
   "cell_type": "markdown",
   "id": "613a4c90-1f61-40a7-99aa-04bb29abe50c",
   "metadata": {},
   "source": [
    "## Ans: Data is of two types which are as follows :\n",
    "## (1) Quantitative Data : It is Numerical Data which can be countable or measurable. It also contains two types of data.\n",
    "###   (i) Discrete data : It contains discrete values.(in whole no.)\n",
    "###     Ex: No. apples in the basket, Marks of students in a class\n",
    "###   (ii) Continous data : Data which is in continous which can be any value.\n",
    "###     Ex: Height, weight, temperature \n",
    "## (2) Qualitative Data : It is categorical Data which descibes qualities and characteristics.It also contains two types of data.\n",
    "###   (i) Nominal Data : Nominal is classified without any intrinsic ordering and ranking\n",
    "###    Ex: (Gender : M,F), (Stream : Science, Commerce, Arts)\n",
    "###   (ii) Ordinal Data : Ordinal Data has order and ranking.\n",
    "###    Ex: Feedbacks : (good,best,better,bad, worst)"
   ]
  },
  {
   "cell_type": "markdown",
   "id": "aaa59407-5f9d-4a6e-ad73-c5fc097f2b48",
   "metadata": {},
   "source": [
    "## Q4. Categorise the following datasets with respect to quantitative and qualitative data types:\n",
    "## (i) Grading in exam: A+, A, B+, B, C+, C, D, E   --->  Qualitative\n",
    "## (ii) Colour of mangoes: yellow, green, orange, red  ---> Qualitative\n",
    "## (iii) Height data of a class: [178.9, 179, 179.5, 176, 177.2, 178.3, 175.8,...]  ---> Quantitative\n",
    "## (iv) Number of mangoes exported by a farm: [500, 600, 478, 672, ...]  ---> Quantitative"
   ]
  },
  {
   "cell_type": "markdown",
   "id": "c41bc4cf-611c-4041-9d7c-e76504f057a4",
   "metadata": {},
   "source": [
    "## Q5. Explain the concept of levels of measurement and give an example of a variable for each level."
   ]
  },
  {
   "cell_type": "markdown",
   "id": "8d769c23-41f1-4ce9-b668-c83ce14d4408",
   "metadata": {},
   "source": [
    "## Ans: The concept of levels of measurement, also known as levels of measurement, refers to the different ways in which variables can be classified or measured. There are four main levels of measurement: nominal, ordinal, interval, and ratio."
   ]
  },
  {
   "cell_type": "markdown",
   "id": "e683084f-e1a7-4348-942a-02c07cb5143d",
   "metadata": {},
   "source": [
    "## 1. Nominal level of measurement:\n",
    "### The nominal level of measurement is used to categorize variables without any quantitative meaning or ordering. For example, gender, nationality, or marital status are nominal variables.\n",
    "## 2. Ordinal level of measurement:\n",
    "### The ordinal level of measurement allows for ranking or ordering of data, but without any specific quantitative measure. For example, level of education, or socioeconomic status, or grades in school are ordinal variables.\n",
    "## 3. Interval level of measurement:\n",
    "### The interval level of measurement measures the distance between data points and has equal intervals, but there is no true zero point. This means that ratios are not meaningful. Examples of interval variables include temperature, dates, and time.\n",
    "## 4. Ratio level of measurement:\n",
    "### The ratio level of measurement is the highest level of measurement and has all the properties of interval measurement, but also has a true zero point, allowing for meaningful ratios. Examples of ratio variables include height, weight, and income."
   ]
  },
  {
   "cell_type": "markdown",
   "id": "4d5593ba-fc76-4b41-8b3a-9d90c994e4d2",
   "metadata": {},
   "source": [
    "## Q6. Why is it important to understand the level of measurement when analyzing data? Provide an example to illustrate your answer."
   ]
  },
  {
   "cell_type": "markdown",
   "id": "6bcea12a-7bb1-48df-864f-5d52e8860b6f",
   "metadata": {},
   "source": [
    "## Ans: It is important to understand the level of measurement when analyzing data because it determines the type of statistical analysis that can be applied to the data, as well as the appropriate ways to interpret and report the results.\n",
    "## Example : if a variable is measured at the ratio level of measurement, meaningful ratios can be calculated, and statistical measures such as mean, standard deviation, and correlation can be used."
   ]
  },
  {
   "cell_type": "markdown",
   "id": "90bcaa6d-1736-42c5-8045-2c50fe5259d9",
   "metadata": {},
   "source": [
    "## Q7. How nominal data type is different from ordinal data type."
   ]
  },
  {
   "cell_type": "markdown",
   "id": "42c135c2-c0ad-4c3a-86ab-1f12d798cb62",
   "metadata": {},
   "source": [
    "## Nominal data refers to data that is categorized without any quantitative meaning or ordering While ordinal data refers to data that is categorized into ordered categories or ranks. Ordinal variables allow for the ranking or ordering of data, but without any specific quantitative measure"
   ]
  },
  {
   "cell_type": "markdown",
   "id": "7f6d1232-e9d2-4f68-a287-8f1f01223f12",
   "metadata": {},
   "source": [
    "## Q8. Which type of plot can be used to display data in terms of range?"
   ]
  },
  {
   "cell_type": "markdown",
   "id": "6b73312e-db1d-460e-a172-07072ac9a132",
   "metadata": {},
   "source": [
    "## Ans: A box plot visually represents the distribution of a dataset by displaying the median, the quartiles, and the range of the data."
   ]
  },
  {
   "cell_type": "markdown",
   "id": "76e92ed1-5f8c-48ef-b580-24394f2f5d23",
   "metadata": {},
   "source": [
    "## Q9. Describe the difference between descriptive and inferential statistics. Give an example of each type of statistics and explain how they are used."
   ]
  },
  {
   "cell_type": "markdown",
   "id": "35964987-df29-4717-a20d-1563e7623d4a",
   "metadata": {},
   "source": [
    "## Ans: Descriptive statistics refers to the set of methods used to summarize and describe the characteristics of a dataset while Inferential statistics, refers to the set of methods used to make inferences or conclusions about a larger population based on a sample of data. "
   ]
  },
  {
   "cell_type": "markdown",
   "id": "da6e4c52-5bfb-4795-beb5-395fae1c045d",
   "metadata": {},
   "source": [
    "## Example of Descriptive Stats : Consider a survey that asks a sample of individuals to rate their level of satisfaction with a product on a scale of 1 to 5. Descriptive statistics can be used to summarize the responses by calculating the mean, median, and mode of the ratings, as well as the standard deviation to show how much the responses vary from the mean. "
   ]
  },
  {
   "cell_type": "markdown",
   "id": "3d21e4ff-fda2-4ba7-a734-8cd4499e601c",
   "metadata": {},
   "source": [
    "## Example of Inferential Stats : using the same survey as above, inferential statistics can be used to test whether there is a significant difference in satisfaction ratings between different groups of individuals, such as males and females or different age groups."
   ]
  },
  {
   "cell_type": "markdown",
   "id": "d9ae833b-67b4-4e78-9816-c9d637dcd206",
   "metadata": {},
   "source": [
    "## Q10. What are some common measures of central tendency and variability used in statistics? Explain how each measure can be used to describe a dataset."
   ]
  },
  {
   "cell_type": "markdown",
   "id": "0dc08321-4ddc-427c-9298-7a49b5c89541",
   "metadata": {},
   "source": [
    "## Ans:  Mean.Median and Mode are common measures of Central tendency and Range,Variance and standara Deviation are common measure of variability.\n",
    "### Mean : The mean can be used to describe the typical or average value in the data set. \n",
    "\n",
    "### Median : The median is the middle value in the data set when it is ordered from smallest to largest. The median can be used to describe the typical value in the data set, especially when there are outliers present.\n",
    "\n",
    "### Mode : The mode is the most frequent value in the data set. The mode can be used to describe the most common value in the data set, but it may not exist or be unique in some cases.\n",
    "\n",
    "### Range: The range is the difference between the largest and smallest values in the data set. The range can be used to describe the spread or variability in the data set, but it is sensitive to outliers.\n",
    "\n",
    "### Variance: The variance is the average of the squared deviations from the mean. The variance can be used to describe the spread or variability in the data set, but its units are squared, making it difficult to interpret.\n",
    "\n",
    "### Standard Deviation: The standard deviation is the square root of the variance. It is the most commonly used measure of variability and can be used to describe the spread or variability in the data set. The standard deviation is expressed in the same units as the original data and can be used to identify outliers or unusual values in the data set."
   ]
  }
 ],
 "metadata": {
  "kernelspec": {
   "display_name": "Python 3 (ipykernel)",
   "language": "python",
   "name": "python3"
  },
  "language_info": {
   "codemirror_mode": {
    "name": "ipython",
    "version": 3
   },
   "file_extension": ".py",
   "mimetype": "text/x-python",
   "name": "python",
   "nbconvert_exporter": "python",
   "pygments_lexer": "ipython3",
   "version": "3.10.8"
  }
 },
 "nbformat": 4,
 "nbformat_minor": 5
}
